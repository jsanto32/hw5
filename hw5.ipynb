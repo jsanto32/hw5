{
 "cells": [
  {
   "cell_type": "code",
   "execution_count": null,
   "id": "4d598e4f",
   "metadata": {},
   "outputs": [
    {
     "data": {
      "application/vnd.plotly.v1+json": {
       "config": {
        "plotlyServerURL": "https://plot.ly"
       },
       "data": [
        {
         "hovertemplate": "Country/Territory=%{x}<br>GDP (million US$)=%{text}<extra></extra>",
         "legendgroup": "",
         "marker": {
          "color": "#636efa",
          "pattern": {
           "shape": ""
          }
         },
         "name": "",
         "orientation": "v",
         "showlegend": false,
         "text": {
          "bdata": "AAAAeIkhm0EAAAAQDRh9QQAAAJA9V3JBAAAAAJkZUkEAAACAxPFPQQAAAICf8E9BAAAAAGZKTUEAAAAADoBIQQAAAIAjfEJBAAAAgF76QEEAAAAAQzhAQQAAAADsrj9BAAAAAFd1O0EAAAAAclE7QQAAAAChCDtBAAAAAODTOUEAAAAA3u41QQAAAADv0DVBAAAAAMtoM0EAAAAAZYkwQQ==",
          "dtype": "f8"
         },
         "textposition": "auto",
         "type": "bar",
         "x": [
          "World",
          "United States",
          "China[n 1]",
          "Germany",
          "India",
          "Japan",
          "United Kingdom",
          "France",
          "Italy",
          "Canada",
          "Brazil",
          "Russia",
          "Spain",
          "South Korea",
          "Australia",
          "Mexico",
          "Turkey",
          "Indonesia",
          "Netherlands",
          "Saudi Arabia"
         ],
         "xaxis": "x",
         "y": {
          "bdata": "AAAAeIkhm0EAAAAQDRh9QQAAAJA9V3JBAAAAAJkZUkEAAACAxPFPQQAAAICf8E9BAAAAAGZKTUEAAAAADoBIQQAAAIAjfEJBAAAAgF76QEEAAAAAQzhAQQAAAADsrj9BAAAAAFd1O0EAAAAAclE7QQAAAAChCDtBAAAAAODTOUEAAAAA3u41QQAAAADv0DVBAAAAAMtoM0EAAAAAZYkwQQ==",
          "dtype": "f8"
         },
         "yaxis": "y"
        }
       ],
       "layout": {
        "barmode": "relative",
        "legend": {
         "tracegroupgap": 0
        },
        "template": {
         "data": {
          "bar": [
           {
            "error_x": {
             "color": "#2a3f5f"
            },
            "error_y": {
             "color": "#2a3f5f"
            },
            "marker": {
             "line": {
              "color": "#E5ECF6",
              "width": 0.5
             },
             "pattern": {
              "fillmode": "overlay",
              "size": 10,
              "solidity": 0.2
             }
            },
            "type": "bar"
           }
          ],
          "barpolar": [
           {
            "marker": {
             "line": {
              "color": "#E5ECF6",
              "width": 0.5
             },
             "pattern": {
              "fillmode": "overlay",
              "size": 10,
              "solidity": 0.2
             }
            },
            "type": "barpolar"
           }
          ],
          "carpet": [
           {
            "aaxis": {
             "endlinecolor": "#2a3f5f",
             "gridcolor": "white",
             "linecolor": "white",
             "minorgridcolor": "white",
             "startlinecolor": "#2a3f5f"
            },
            "baxis": {
             "endlinecolor": "#2a3f5f",
             "gridcolor": "white",
             "linecolor": "white",
             "minorgridcolor": "white",
             "startlinecolor": "#2a3f5f"
            },
            "type": "carpet"
           }
          ],
          "choropleth": [
           {
            "colorbar": {
             "outlinewidth": 0,
             "ticks": ""
            },
            "type": "choropleth"
           }
          ],
          "contour": [
           {
            "colorbar": {
             "outlinewidth": 0,
             "ticks": ""
            },
            "colorscale": [
             [
              0,
              "#0d0887"
             ],
             [
              0.1111111111111111,
              "#46039f"
             ],
             [
              0.2222222222222222,
              "#7201a8"
             ],
             [
              0.3333333333333333,
              "#9c179e"
             ],
             [
              0.4444444444444444,
              "#bd3786"
             ],
             [
              0.5555555555555556,
              "#d8576b"
             ],
             [
              0.6666666666666666,
              "#ed7953"
             ],
             [
              0.7777777777777778,
              "#fb9f3a"
             ],
             [
              0.8888888888888888,
              "#fdca26"
             ],
             [
              1,
              "#f0f921"
             ]
            ],
            "type": "contour"
           }
          ],
          "contourcarpet": [
           {
            "colorbar": {
             "outlinewidth": 0,
             "ticks": ""
            },
            "type": "contourcarpet"
           }
          ],
          "heatmap": [
           {
            "colorbar": {
             "outlinewidth": 0,
             "ticks": ""
            },
            "colorscale": [
             [
              0,
              "#0d0887"
             ],
             [
              0.1111111111111111,
              "#46039f"
             ],
             [
              0.2222222222222222,
              "#7201a8"
             ],
             [
              0.3333333333333333,
              "#9c179e"
             ],
             [
              0.4444444444444444,
              "#bd3786"
             ],
             [
              0.5555555555555556,
              "#d8576b"
             ],
             [
              0.6666666666666666,
              "#ed7953"
             ],
             [
              0.7777777777777778,
              "#fb9f3a"
             ],
             [
              0.8888888888888888,
              "#fdca26"
             ],
             [
              1,
              "#f0f921"
             ]
            ],
            "type": "heatmap"
           }
          ],
          "histogram": [
           {
            "marker": {
             "pattern": {
              "fillmode": "overlay",
              "size": 10,
              "solidity": 0.2
             }
            },
            "type": "histogram"
           }
          ],
          "histogram2d": [
           {
            "colorbar": {
             "outlinewidth": 0,
             "ticks": ""
            },
            "colorscale": [
             [
              0,
              "#0d0887"
             ],
             [
              0.1111111111111111,
              "#46039f"
             ],
             [
              0.2222222222222222,
              "#7201a8"
             ],
             [
              0.3333333333333333,
              "#9c179e"
             ],
             [
              0.4444444444444444,
              "#bd3786"
             ],
             [
              0.5555555555555556,
              "#d8576b"
             ],
             [
              0.6666666666666666,
              "#ed7953"
             ],
             [
              0.7777777777777778,
              "#fb9f3a"
             ],
             [
              0.8888888888888888,
              "#fdca26"
             ],
             [
              1,
              "#f0f921"
             ]
            ],
            "type": "histogram2d"
           }
          ],
          "histogram2dcontour": [
           {
            "colorbar": {
             "outlinewidth": 0,
             "ticks": ""
            },
            "colorscale": [
             [
              0,
              "#0d0887"
             ],
             [
              0.1111111111111111,
              "#46039f"
             ],
             [
              0.2222222222222222,
              "#7201a8"
             ],
             [
              0.3333333333333333,
              "#9c179e"
             ],
             [
              0.4444444444444444,
              "#bd3786"
             ],
             [
              0.5555555555555556,
              "#d8576b"
             ],
             [
              0.6666666666666666,
              "#ed7953"
             ],
             [
              0.7777777777777778,
              "#fb9f3a"
             ],
             [
              0.8888888888888888,
              "#fdca26"
             ],
             [
              1,
              "#f0f921"
             ]
            ],
            "type": "histogram2dcontour"
           }
          ],
          "mesh3d": [
           {
            "colorbar": {
             "outlinewidth": 0,
             "ticks": ""
            },
            "type": "mesh3d"
           }
          ],
          "parcoords": [
           {
            "line": {
             "colorbar": {
              "outlinewidth": 0,
              "ticks": ""
             }
            },
            "type": "parcoords"
           }
          ],
          "pie": [
           {
            "automargin": true,
            "type": "pie"
           }
          ],
          "scatter": [
           {
            "fillpattern": {
             "fillmode": "overlay",
             "size": 10,
             "solidity": 0.2
            },
            "type": "scatter"
           }
          ],
          "scatter3d": [
           {
            "line": {
             "colorbar": {
              "outlinewidth": 0,
              "ticks": ""
             }
            },
            "marker": {
             "colorbar": {
              "outlinewidth": 0,
              "ticks": ""
             }
            },
            "type": "scatter3d"
           }
          ],
          "scattercarpet": [
           {
            "marker": {
             "colorbar": {
              "outlinewidth": 0,
              "ticks": ""
             }
            },
            "type": "scattercarpet"
           }
          ],
          "scattergeo": [
           {
            "marker": {
             "colorbar": {
              "outlinewidth": 0,
              "ticks": ""
             }
            },
            "type": "scattergeo"
           }
          ],
          "scattergl": [
           {
            "marker": {
             "colorbar": {
              "outlinewidth": 0,
              "ticks": ""
             }
            },
            "type": "scattergl"
           }
          ],
          "scattermap": [
           {
            "marker": {
             "colorbar": {
              "outlinewidth": 0,
              "ticks": ""
             }
            },
            "type": "scattermap"
           }
          ],
          "scattermapbox": [
           {
            "marker": {
             "colorbar": {
              "outlinewidth": 0,
              "ticks": ""
             }
            },
            "type": "scattermapbox"
           }
          ],
          "scatterpolar": [
           {
            "marker": {
             "colorbar": {
              "outlinewidth": 0,
              "ticks": ""
             }
            },
            "type": "scatterpolar"
           }
          ],
          "scatterpolargl": [
           {
            "marker": {
             "colorbar": {
              "outlinewidth": 0,
              "ticks": ""
             }
            },
            "type": "scatterpolargl"
           }
          ],
          "scatterternary": [
           {
            "marker": {
             "colorbar": {
              "outlinewidth": 0,
              "ticks": ""
             }
            },
            "type": "scatterternary"
           }
          ],
          "surface": [
           {
            "colorbar": {
             "outlinewidth": 0,
             "ticks": ""
            },
            "colorscale": [
             [
              0,
              "#0d0887"
             ],
             [
              0.1111111111111111,
              "#46039f"
             ],
             [
              0.2222222222222222,
              "#7201a8"
             ],
             [
              0.3333333333333333,
              "#9c179e"
             ],
             [
              0.4444444444444444,
              "#bd3786"
             ],
             [
              0.5555555555555556,
              "#d8576b"
             ],
             [
              0.6666666666666666,
              "#ed7953"
             ],
             [
              0.7777777777777778,
              "#fb9f3a"
             ],
             [
              0.8888888888888888,
              "#fdca26"
             ],
             [
              1,
              "#f0f921"
             ]
            ],
            "type": "surface"
           }
          ],
          "table": [
           {
            "cells": {
             "fill": {
              "color": "#EBF0F8"
             },
             "line": {
              "color": "white"
             }
            },
            "header": {
             "fill": {
              "color": "#C8D4E3"
             },
             "line": {
              "color": "white"
             }
            },
            "type": "table"
           }
          ]
         },
         "layout": {
          "annotationdefaults": {
           "arrowcolor": "#2a3f5f",
           "arrowhead": 0,
           "arrowwidth": 1
          },
          "autotypenumbers": "strict",
          "coloraxis": {
           "colorbar": {
            "outlinewidth": 0,
            "ticks": ""
           }
          },
          "colorscale": {
           "diverging": [
            [
             0,
             "#8e0152"
            ],
            [
             0.1,
             "#c51b7d"
            ],
            [
             0.2,
             "#de77ae"
            ],
            [
             0.3,
             "#f1b6da"
            ],
            [
             0.4,
             "#fde0ef"
            ],
            [
             0.5,
             "#f7f7f7"
            ],
            [
             0.6,
             "#e6f5d0"
            ],
            [
             0.7,
             "#b8e186"
            ],
            [
             0.8,
             "#7fbc41"
            ],
            [
             0.9,
             "#4d9221"
            ],
            [
             1,
             "#276419"
            ]
           ],
           "sequential": [
            [
             0,
             "#0d0887"
            ],
            [
             0.1111111111111111,
             "#46039f"
            ],
            [
             0.2222222222222222,
             "#7201a8"
            ],
            [
             0.3333333333333333,
             "#9c179e"
            ],
            [
             0.4444444444444444,
             "#bd3786"
            ],
            [
             0.5555555555555556,
             "#d8576b"
            ],
            [
             0.6666666666666666,
             "#ed7953"
            ],
            [
             0.7777777777777778,
             "#fb9f3a"
            ],
            [
             0.8888888888888888,
             "#fdca26"
            ],
            [
             1,
             "#f0f921"
            ]
           ],
           "sequentialminus": [
            [
             0,
             "#0d0887"
            ],
            [
             0.1111111111111111,
             "#46039f"
            ],
            [
             0.2222222222222222,
             "#7201a8"
            ],
            [
             0.3333333333333333,
             "#9c179e"
            ],
            [
             0.4444444444444444,
             "#bd3786"
            ],
            [
             0.5555555555555556,
             "#d8576b"
            ],
            [
             0.6666666666666666,
             "#ed7953"
            ],
            [
             0.7777777777777778,
             "#fb9f3a"
            ],
            [
             0.8888888888888888,
             "#fdca26"
            ],
            [
             1,
             "#f0f921"
            ]
           ]
          },
          "colorway": [
           "#636efa",
           "#EF553B",
           "#00cc96",
           "#ab63fa",
           "#FFA15A",
           "#19d3f3",
           "#FF6692",
           "#B6E880",
           "#FF97FF",
           "#FECB52"
          ],
          "font": {
           "color": "#2a3f5f"
          },
          "geo": {
           "bgcolor": "white",
           "lakecolor": "white",
           "landcolor": "#E5ECF6",
           "showlakes": true,
           "showland": true,
           "subunitcolor": "white"
          },
          "hoverlabel": {
           "align": "left"
          },
          "hovermode": "closest",
          "mapbox": {
           "style": "light"
          },
          "paper_bgcolor": "white",
          "plot_bgcolor": "#E5ECF6",
          "polar": {
           "angularaxis": {
            "gridcolor": "white",
            "linecolor": "white",
            "ticks": ""
           },
           "bgcolor": "#E5ECF6",
           "radialaxis": {
            "gridcolor": "white",
            "linecolor": "white",
            "ticks": ""
           }
          },
          "scene": {
           "xaxis": {
            "backgroundcolor": "#E5ECF6",
            "gridcolor": "white",
            "gridwidth": 2,
            "linecolor": "white",
            "showbackground": true,
            "ticks": "",
            "zerolinecolor": "white"
           },
           "yaxis": {
            "backgroundcolor": "#E5ECF6",
            "gridcolor": "white",
            "gridwidth": 2,
            "linecolor": "white",
            "showbackground": true,
            "ticks": "",
            "zerolinecolor": "white"
           },
           "zaxis": {
            "backgroundcolor": "#E5ECF6",
            "gridcolor": "white",
            "gridwidth": 2,
            "linecolor": "white",
            "showbackground": true,
            "ticks": "",
            "zerolinecolor": "white"
           }
          },
          "shapedefaults": {
           "line": {
            "color": "#2a3f5f"
           }
          },
          "ternary": {
           "aaxis": {
            "gridcolor": "white",
            "linecolor": "white",
            "ticks": ""
           },
           "baxis": {
            "gridcolor": "white",
            "linecolor": "white",
            "ticks": ""
           },
           "bgcolor": "#E5ECF6",
           "caxis": {
            "gridcolor": "white",
            "linecolor": "white",
            "ticks": ""
           }
          },
          "title": {
           "x": 0.05
          },
          "xaxis": {
           "automargin": true,
           "gridcolor": "white",
           "linecolor": "white",
           "ticks": "",
           "title": {
            "standoff": 15
           },
           "zerolinecolor": "white",
           "zerolinewidth": 2
          },
          "yaxis": {
           "automargin": true,
           "gridcolor": "white",
           "linecolor": "white",
           "ticks": "",
           "title": {
            "standoff": 15
           },
           "zerolinecolor": "white",
           "zerolinewidth": 2
          }
         }
        },
        "title": {
         "text": "Top 20 Countries by IMF GDP Forecast (2025)"
        },
        "xaxis": {
         "anchor": "y",
         "domain": [
          0,
          1
         ],
         "tickangle": -45,
         "title": {
          "text": "Country/Territory"
         }
        },
        "yaxis": {
         "anchor": "x",
         "domain": [
          0,
          1
         ],
         "title": {
          "text": "GDP (million US$)"
         }
        }
       }
      }
     },
     "metadata": {},
     "output_type": "display_data"
    },
    {
     "data": {
      "application/vnd.plotly.v1+json": {
       "config": {
        "plotlyServerURL": "https://plot.ly"
       },
       "data": [
        {
         "link": {
          "source": [
           0,
           1,
           0,
           1,
           0,
           1,
           0,
           1,
           0,
           1,
           0,
           1,
           0,
           1,
           0,
           1,
           0,
           1,
           0,
           1,
           0,
           1,
           0,
           1,
           0,
           1,
           0,
           1,
           0,
           1,
           0,
           1,
           0,
           1,
           0,
           1,
           0,
           1,
           0,
           1,
           0,
           1,
           0,
           1,
           0,
           1,
           0,
           1,
           0,
           1,
           0,
           1,
           0,
           1,
           0,
           1,
           0,
           1,
           0,
           1,
           0,
           1,
           0,
           1,
           0,
           1,
           0,
           1,
           0,
           1,
           0,
           1,
           0,
           1,
           0,
           1,
           0,
           1,
           0,
           1,
           0,
           1,
           2,
           3,
           2,
           3,
           2,
           2,
           3,
           3,
           0,
           1,
           4,
           4,
           4,
           4,
           5,
           5,
           4,
           4,
           4,
           4,
           5,
           5,
           5,
           5,
           5,
           5,
           5,
           5,
           6,
           6,
           5,
           5,
           5,
           5,
           6,
           6,
           0,
           1,
           0,
           1,
           0,
           1,
           0,
           1,
           0,
           1,
           0,
           1,
           0,
           1,
           0,
           1,
           0,
           1,
           0,
           1,
           0,
           1,
           0,
           1,
           0,
           1,
           0,
           1,
           0,
           1,
           0,
           1,
           0,
           1,
           0,
           1,
           0,
           1,
           0,
           1,
           2,
           3,
           2,
           2,
           3,
           3,
           3,
           2,
           7,
           7,
           7,
           7,
           7,
           7,
           7,
           7,
           7,
           7,
           7,
           0,
           1,
           0,
           1,
           0,
           1,
           0,
           1,
           0,
           1,
           0,
           1,
           0,
           1,
           0,
           1,
           0,
           1,
           0,
           1,
           0,
           1,
           0,
           1,
           0,
           1,
           0,
           1,
           0,
           1,
           0,
           1,
           0,
           1,
           0,
           1,
           0,
           1,
           0,
           1,
           0,
           1,
           0,
           1,
           0,
           1,
           0,
           1,
           0,
           1,
           0,
           1,
           0,
           1,
           0,
           1,
           0,
           1,
           0,
           1,
           0,
           1,
           0,
           1,
           0,
           1,
           0,
           1,
           0,
           1,
           5,
           5,
           5,
           5,
           5,
           5,
           7,
           7,
           7,
           7,
           7,
           7,
           7,
           7,
           7,
           7,
           7,
           7,
           7,
           7,
           7,
           7,
           7,
           7,
           0,
           0,
           1,
           1,
           7,
           7,
           7,
           0,
           1,
           8,
           9,
           8,
           9,
           8,
           9,
           8,
           9,
           8,
           9,
           8,
           9,
           8,
           9,
           8,
           9,
           8,
           9,
           8,
           9,
           8,
           9,
           8,
           9,
           8,
           9,
           8,
           9,
           8,
           9,
           8,
           9,
           8,
           9,
           8,
           9,
           8,
           9,
           8,
           9,
           8,
           9,
           8,
           9,
           8,
           9,
           8,
           9,
           8,
           9,
           8,
           9,
           8,
           9,
           8,
           9,
           8,
           9,
           8,
           9,
           8,
           9,
           8,
           9,
           8,
           9,
           8,
           9,
           8,
           9,
           8,
           9,
           10,
           11,
           8,
           9,
           10,
           11,
           10,
           11,
           10,
           11,
           42,
           43,
           44,
           45,
           44,
           44,
           45,
           45,
           10,
           11,
           16,
           17,
           16,
           17,
           18,
           19,
           16,
           17,
           16,
           17,
           19,
           18,
           19,
           18,
           19,
           18,
           19,
           18,
           20,
           21,
           19,
           18,
           19,
           18,
           20,
           21,
           22,
           23,
           22,
           23,
           22,
           23,
           22,
           23,
           22,
           23,
           22,
           23,
           22,
           23,
           22,
           23,
           22,
           23,
           22,
           23,
           22,
           23,
           22,
           23,
           22,
           23,
           22,
           23,
           22,
           23,
           22,
           23,
           22,
           23,
           22,
           23,
           22,
           23,
           22,
           23,
           44,
           45,
           44,
           44,
           45,
           45,
           45,
           44,
           24,
           24,
           24,
           24,
           24,
           24,
           24,
           24,
           24,
           24,
           24,
           22,
           23,
           22,
           23,
           22,
           23,
           22,
           23,
           22,
           23,
           22,
           23,
           22,
           23,
           22,
           23,
           22,
           23,
           22,
           23,
           22,
           23,
           22,
           23,
           22,
           23,
           22,
           23,
           22,
           23,
           22,
           23,
           22,
           23,
           22,
           23,
           22,
           23,
           22,
           23,
           22,
           23,
           22,
           23,
           22,
           23,
           22,
           23,
           22,
           23,
           22,
           23,
           22,
           23,
           22,
           23,
           22,
           23,
           22,
           23,
           22,
           23,
           22,
           23,
           22,
           23,
           22,
           23,
           22,
           23,
           18,
           19,
           19,
           18,
           19,
           18,
           25,
           26,
           25,
           26,
           25,
           26,
           25,
           26,
           25,
           26,
           25,
           26,
           25,
           26,
           25,
           26,
           25,
           26,
           10,
           8,
           11,
           9,
           27,
           27,
           24,
           22,
           23
          ],
          "target": [
           8,
           9,
           8,
           9,
           8,
           9,
           8,
           9,
           8,
           9,
           8,
           9,
           8,
           9,
           8,
           9,
           8,
           9,
           8,
           9,
           8,
           9,
           8,
           9,
           8,
           9,
           8,
           9,
           8,
           9,
           8,
           9,
           8,
           9,
           8,
           9,
           8,
           9,
           8,
           9,
           8,
           9,
           8,
           9,
           8,
           9,
           8,
           9,
           8,
           9,
           8,
           9,
           8,
           9,
           8,
           9,
           8,
           9,
           8,
           9,
           8,
           9,
           8,
           9,
           8,
           9,
           8,
           9,
           8,
           9,
           8,
           9,
           10,
           11,
           8,
           9,
           10,
           11,
           10,
           11,
           10,
           11,
           42,
           43,
           44,
           45,
           44,
           44,
           45,
           45,
           10,
           11,
           16,
           17,
           16,
           17,
           18,
           19,
           16,
           17,
           16,
           17,
           19,
           18,
           19,
           18,
           19,
           18,
           19,
           18,
           20,
           21,
           19,
           18,
           19,
           18,
           20,
           21,
           22,
           23,
           22,
           23,
           22,
           23,
           22,
           23,
           22,
           23,
           22,
           23,
           22,
           23,
           22,
           23,
           22,
           23,
           22,
           23,
           22,
           23,
           22,
           23,
           22,
           23,
           22,
           23,
           22,
           23,
           22,
           23,
           22,
           23,
           22,
           23,
           22,
           23,
           22,
           23,
           44,
           45,
           44,
           44,
           45,
           45,
           45,
           44,
           24,
           24,
           24,
           24,
           24,
           24,
           24,
           24,
           24,
           24,
           24,
           22,
           23,
           22,
           23,
           22,
           23,
           22,
           23,
           22,
           23,
           22,
           23,
           22,
           23,
           22,
           23,
           22,
           23,
           22,
           23,
           22,
           23,
           22,
           23,
           22,
           23,
           22,
           23,
           22,
           23,
           22,
           23,
           22,
           23,
           22,
           23,
           22,
           23,
           22,
           23,
           22,
           23,
           22,
           23,
           22,
           23,
           22,
           23,
           22,
           23,
           22,
           23,
           22,
           23,
           22,
           23,
           22,
           23,
           22,
           23,
           22,
           23,
           22,
           23,
           22,
           23,
           22,
           23,
           22,
           23,
           18,
           19,
           19,
           18,
           19,
           18,
           25,
           26,
           25,
           26,
           25,
           26,
           25,
           26,
           25,
           26,
           25,
           26,
           25,
           26,
           25,
           26,
           25,
           26,
           10,
           8,
           11,
           9,
           27,
           27,
           24,
           22,
           23,
           28,
           29,
           28,
           29,
           28,
           29,
           28,
           29,
           28,
           29,
           28,
           29,
           28,
           29,
           28,
           29,
           28,
           29,
           28,
           29,
           28,
           29,
           30,
           31,
           28,
           29,
           30,
           31,
           30,
           31,
           30,
           31,
           30,
           31,
           32,
           33,
           32,
           33,
           32,
           33,
           32,
           33,
           32,
           33,
           34,
           35,
           34,
           35,
           32,
           33,
           36,
           37,
           36,
           37,
           36,
           37,
           36,
           37,
           36,
           37,
           34,
           35,
           34,
           35,
           34,
           35,
           34,
           35,
           34,
           35,
           38,
           39,
           34,
           35,
           34,
           35,
           40,
           41,
           40,
           41,
           40,
           41,
           42,
           43,
           44,
           45,
           44,
           44,
           45,
           45,
           40,
           41,
           46,
           47,
           46,
           47,
           48,
           49,
           46,
           47,
           46,
           47,
           50,
           51,
           50,
           51,
           50,
           51,
           50,
           51,
           52,
           53,
           50,
           51,
           50,
           51,
           52,
           53,
           54,
           55,
           54,
           55,
           56,
           57,
           58,
           59,
           58,
           59,
           58,
           59,
           60,
           61,
           60,
           61,
           60,
           61,
           60,
           61,
           60,
           61,
           62,
           63,
           62,
           63,
           62,
           63,
           62,
           63,
           60,
           61,
           60,
           61,
           60,
           61,
           54,
           55,
           56,
           57,
           44,
           45,
           44,
           44,
           45,
           45,
           45,
           44,
           64,
           64,
           64,
           64,
           64,
           65,
           65,
           65,
           65,
           65,
           66,
           54,
           55,
           56,
           57,
           54,
           55,
           54,
           55,
           54,
           55,
           54,
           55,
           54,
           55,
           54,
           55,
           54,
           55,
           54,
           55,
           54,
           55,
           54,
           55,
           54,
           55,
           56,
           57,
           54,
           55,
           56,
           57,
           56,
           57,
           56,
           57,
           56,
           57,
           60,
           61,
           60,
           61,
           60,
           61,
           60,
           61,
           60,
           61,
           60,
           61,
           56,
           57,
           56,
           57,
           56,
           57,
           56,
           57,
           56,
           57,
           62,
           63,
           62,
           63,
           62,
           63,
           62,
           63,
           62,
           63,
           48,
           49,
           49,
           48,
           49,
           48,
           67,
           68,
           69,
           70,
           71,
           72,
           71,
           72,
           71,
           72,
           73,
           74,
           75,
           76,
           77,
           78,
           79,
           80,
           40,
           34,
           41,
           35,
           64,
           65,
           81,
           60,
           61
          ],
          "value": [
           0.00935028334411155,
           0.007269870618004106,
           0.009246841403974774,
           0.008323821015062014,
           0.0022265335086782724,
           0.0035257064071793046,
           0.007188853154400478,
           0.008066301220036197,
           0.011790934435170838,
           0.011898716596572094,
           0.003059132621247698,
           0.0029542439406894296,
           0.0032920578291081278,
           0.0027979959751681474,
           0.0031112152764214587,
           0.0026453648607005983,
           0.003399839990509383,
           0.0032479322462525806,
           0.003482304194534504,
           0.0034316682797822366,
           0.004560125808547053,
           0.004491405638526119,
           0.007738614514567953,
           0.008085832215726358,
           0.010666817127670501,
           0.012675616202914025,
           0.005471572274087866,
           0.00501150882005298,
           0.006239791437900838,
           0.006869846891461194,
           0.005374640665847812,
           0.009823367461939876,
           0.005323281380884798,
           0.0047554357654486555,
           0.009372707820644697,
           0.008140084981532358,
           0.003518472705071838,
           0.0039090926188750435,
           0.011746085482104544,
           0.011798891507489051,
           0.0019502060881730417,
           0.002162876930132565,
           0.009081189625713786,
           0.00892349491977101,
           0.0009042127634333465,
           0.0009027660230118531,
           0.0006727342959944098,
           0.000753028389387291,
           0.010150330797197375,
           0.009775625028030597,
           0.0018576147011974671,
           0.0016406036379734638,
           0.011785147473484865,
           0.010245815665015937,
           0.0031032582041032454,
           0.0032370816930913805,
           0.004367709332488437,
           0.004947128871296526,
           0.005836150860304192,
           0.00527264546613253,
           0.0019010169138422676,
           0.0026316208266964117,
           0.00034070736926168497,
           0.000432575386026513,
           0.0011176069756036163,
           0.0011704130009881238,
           0.00888443292839069,
           0.009074679293817065,
           0.0041362308650495,
           0.005872319370841526,
           0.00523792369601669,
           0.005122907832507968,
           0.0014344431279106609,
           0.0016991966250439448,
           0.002837781336759215,
           0.0027017877371388393,
           0.0025824316523656377,
           0.002693107294609879,
           0.0031719783741241793,
           0.0031828289272853795,
           0.0009895704483014545,
           0.0010691411714835888,
           0.004587613876555427,
           0.0046093149828778275,
           0.00048104119014654036,
           0.0005504847303782214,
           0.00029368830556315096,
           0.00029368830556315096,
           0.00029658178640613766,
           0.00029658178640613766,
           0.0005150395900516342,
           0.0005656755048039016,
           0.000253179573761337,
           0.0003110491906210712,
           0.0002799442715589641,
           0.00018518277395114936,
           0.042320050809523606,
           0.04299350847572876,
           0.0013997213577948203,
           0.0014568676044438079,
           0.0016442204890271973,
           0.0018995701734207742,
           0.0011349678606615366,
           0.0010322492907355084,
           0.0006900951810523301,
           0.0007523050191765442,
           0.0020956035005331238,
           0.0021679405216077914,
           0.0006973288831597968,
           0.000616311419556169,
           0.000645246227986036,
           0.0006698408151514231,
           0.0006090777174487022,
           0.0007747294957096913,
           0.00019313984626936282,
           0.0004687438965638468,
           0.0010930123884382293,
           0.0011906673668890307,
           0.009114464655408133,
           0.009606356398715873,
           0.009737286406861022,
           0.010380362524214818,
           0.0031828289272853795,
           0.0027285524349364666,
           0.001869188624569414,
           0.001987821339131869,
           0.00298028526827631,
           0.0032457621356203406,
           0.003925730133722217,
           0.004291032090149289,
           0.00028356112261269744,
           0.00028356112261269744,
           0.0016955797739902113,
           0.0018286798927676,
           0.002451501644220489,
           0.0023849515848317947,
           0.002216406325727819,
           0.0022424476533146995,
           0.002391461916728515,
           0.0022909134574347267,
           0.002267765610690833,
           0.002577368060890411,
           0.0013100234516622324,
           0.001247813613538018,
           0.001030802550314015,
           0.0010402063630537218,
           0.0006532033003042496,
           0.0007204767299036905,
           0.0013078533410299923,
           0.001349085443042553,
           0.005116397500611248,
           0.00410584931619814,
           0.002596899056580571,
           0.002924585762048816,
           0.00026258338650104383,
           0.0001996501781660829,
           0.005055634402908527,
           0.005629266980030642,
           0.0003030921183028577,
           0.00040725742865037925,
           0.0012492603539595115,
           0.0012492603539595115,
           0.0010633542097976156,
           0.0010633542097976156,
           0.00007523050191765443,
           0.00009042127634333466,
           0.0048870891438045514,
           0.006019163523623101,
           0.0032978447907941015,
           0.00030236874809211106,
           0.0006032907557627288,
           0.0042570336902441955,
           0.0057573035073328034,
           0.0029658178640613766,
           0.00008680442528960127,
           0.0006575435215687295,
           0.0017491091695854655,
           0.0006047374961842221,
           0.0006271619727173691,
           0.0005678456154361416,
           0.0004701906369853402,
           0.006092947285119262,
           0.00552727178031536,
           0.006455355760703347,
           0.006343956748248359,
           0.0003703655479022987,
           0.0005859298707048085,
           0.005082399100706154,
           0.005331961823413758,
           0.0035531944751876782,
           0.0044545137577780385,
           0.00160877534870061,
           0.0027632742050523068,
           0.0024732027505428894,
           0.001796851603494746,
           0.003358607888496822,
           0.0026591088947047854,
           0.0018286798927676,
           0.001440953459807381,
           0.0016189025316510636,
           0.0014995464468778618,
           0.002058711619785043,
           0.002536859329088597,
           0.006106691319123449,
           0.006427867692694974,
           0.008726738222447914,
           0.010623414915025702,
           0.005392724921116479,
           0.00528349601929373,
           0.0028464617792881746,
           0.003458432977579864,
           0.002630174086274918,
           0.003688464704597307,
           0.0021592600790788312,
           0.0018344668544535733,
           0.006365657854570759,
           0.005670499082043203,
           0.0009353176824954537,
           0.0009280839803879868,
           0.00682282782776266,
           0.007738614514567953,
           0.0011689662605666304,
           0.0013093000814514858,
           0.004513106744848519,
           0.004018321520697792,
           0.003791183274523335,
           0.004165889043690114,
           0.002310444453124887,
           0.002722765473250493,
           0.008814989388159009,
           0.008758566511720767,
           0.0013801903621046602,
           0.002447884793166756,
           0.004372772923963664,
           0.003486644415798984,
           0.006130562536078089,
           0.004824879305680337,
           0.00018445940374040267,
           0.0000014467404214933544,
           0.00008680442528960127,
           0.00007667724233914778,
           0.00017216211015770916,
           0.00010344194013677484,
           0.0020854763175826704,
           0.0012962794176580455,
           0.0025723044694151843,
           0.0028500786303419083,
           0.0073458244901325066,
           0.00662462439001807,
           0.0020760725048429634,
           0.0019118674670034678,
           0.00039206665422469904,
           0.00041666124139008606,
           0.010853446642043145,
           0.008124894207106678,
           0.001561756285002076,
           0.001265897868806685,
           0.00114943526487647,
           0.0008499599976273457,
           0.0011559455967731901,
           0.001057567248111642,
           0.0004629569348778734,
           0.00020833062069504303,
           0.006321532271715212,
           0.007036945410143676,
           0.0008485132572058524,
           0.001026462329049535,
           0.0013989979875840737,
           0.001485802412873675,
           0.0008239186700404654,
           0.0006582668917794762,
           0.00026258338650104383,
           0.00003616851053733386,
           0.0002495627227076036,
           0.000032551659483600474,
           0.0003211763735715247,
           0.00026837034818701723,
           0.0019530995690160283,
           0.00021122410153802973,
           0.00021122410153802973,
           0.00935028334411155,
           0.007269870618004106,
           0.009246841403974774,
           0.008323821015062014,
           0.0022265335086782724,
           0.0035257064071793046,
           0.007188853154400478,
           0.008066301220036197,
           0.011790934435170838,
           0.011898716596572094,
           0.003059132621247698,
           0.0029542439406894296,
           0.0032920578291081278,
           0.0027979959751681474,
           0.0031112152764214587,
           0.0026453648607005983,
           0.003399839990509383,
           0.0032479322462525806,
           0.003482304194534504,
           0.0034316682797822366,
           0.004560125808547053,
           0.004491405638526119,
           0.007738614514567953,
           0.008085832215726358,
           0.010666817127670501,
           0.012675616202914025,
           0.005471572274087866,
           0.00501150882005298,
           0.006239791437900838,
           0.006869846891461194,
           0.005374640665847812,
           0.009823367461939876,
           0.005323281380884798,
           0.0047554357654486555,
           0.009372707820644697,
           0.008140084981532358,
           0.003518472705071838,
           0.0039090926188750435,
           0.011746085482104544,
           0.011798891507489051,
           0.0019502060881730417,
           0.002162876930132565,
           0.009081189625713786,
           0.00892349491977101,
           0.0009042127634333465,
           0.0009027660230118531,
           0.0006727342959944098,
           0.000753028389387291,
           0.010150330797197375,
           0.009775625028030597,
           0.0018576147011974671,
           0.0016406036379734638,
           0.011785147473484865,
           0.010245815665015937,
           0.0031032582041032454,
           0.0032370816930913805,
           0.004367709332488437,
           0.004947128871296526,
           0.005836150860304192,
           0.00527264546613253,
           0.0019010169138422676,
           0.0026316208266964117,
           0.00034070736926168497,
           0.000432575386026513,
           0.0011176069756036163,
           0.0011704130009881238,
           0.00888443292839069,
           0.009074679293817065,
           0.0041362308650495,
           0.005872319370841526,
           0.00523792369601669,
           0.005122907832507968,
           0.0014344431279106609,
           0.0016991966250439448,
           0.002837781336759215,
           0.0027017877371388393,
           0.0025824316523656377,
           0.002693107294609879,
           0.0031719783741241793,
           0.0031828289272853795,
           0.0009895704483014545,
           0.0010691411714835888,
           0.004587613876555427,
           0.0046093149828778275,
           0.00048104119014654036,
           0.0005504847303782214,
           0.00029368830556315096,
           0.00029368830556315096,
           0.00029658178640613766,
           0.00029658178640613766,
           0.0005150395900516342,
           0.0005656755048039016,
           0.000253179573761337,
           0.0003110491906210712,
           0.0002799442715589641,
           0.00018518277395114936,
           0.042320050809523606,
           0.04299350847572876,
           0.0013997213577948203,
           0.0014568676044438079,
           0.0016442204890271973,
           0.0018995701734207742,
           0.0011349678606615366,
           0.0010322492907355084,
           0.0006900951810523301,
           0.0007523050191765442,
           0.0020956035005331238,
           0.0021679405216077914,
           0.0006973288831597968,
           0.000616311419556169,
           0.000645246227986036,
           0.0006698408151514231,
           0.0006090777174487022,
           0.0007747294957096913,
           0.00019313984626936282,
           0.0004687438965638468,
           0.0010930123884382293,
           0.0011906673668890307,
           0.009114464655408133,
           0.009606356398715873,
           0.009737286406861022,
           0.010380362524214818,
           0.0031828289272853795,
           0.0027285524349364666,
           0.001869188624569414,
           0.001987821339131869,
           0.00298028526827631,
           0.0032457621356203406,
           0.003925730133722217,
           0.004291032090149289,
           0.00028356112261269744,
           0.00028356112261269744,
           0.0016955797739902113,
           0.0018286798927676,
           0.002451501644220489,
           0.0023849515848317947,
           0.002216406325727819,
           0.0022424476533146995,
           0.002391461916728515,
           0.0022909134574347267,
           0.002267765610690833,
           0.002577368060890411,
           0.0013100234516622324,
           0.001247813613538018,
           0.001030802550314015,
           0.0010402063630537218,
           0.0006532033003042496,
           0.0007204767299036905,
           0.0013078533410299923,
           0.001349085443042553,
           0.005116397500611248,
           0.00410584931619814,
           0.002596899056580571,
           0.002924585762048816,
           0.00026258338650104383,
           0.0001996501781660829,
           0.005055634402908527,
           0.005629266980030642,
           0.0003030921183028577,
           0.00040725742865037925,
           0.0012492603539595115,
           0.0012492603539595115,
           0.0010633542097976156,
           0.0010633542097976156,
           0.00007523050191765443,
           0.00009042127634333466,
           0.0048870891438045514,
           0.006019163523623101,
           0.0032978447907941015,
           0.00030236874809211106,
           0.0006032907557627288,
           0.0042570336902441955,
           0.0057573035073328034,
           0.0029658178640613766,
           0.00008680442528960127,
           0.0006575435215687295,
           0.0017491091695854655,
           0.0006047374961842221,
           0.0006271619727173691,
           0.0005678456154361416,
           0.0004701906369853402,
           0.006092947285119262,
           0.00552727178031536,
           0.006455355760703347,
           0.006343956748248359,
           0.0003703655479022987,
           0.0005859298707048085,
           0.005082399100706154,
           0.005331961823413758,
           0.0035531944751876782,
           0.0044545137577780385,
           0.00160877534870061,
           0.0027632742050523068,
           0.0024732027505428894,
           0.001796851603494746,
           0.003358607888496822,
           0.0026591088947047854,
           0.0018286798927676,
           0.001440953459807381,
           0.0016189025316510636,
           0.0014995464468778618,
           0.002058711619785043,
           0.002536859329088597,
           0.006106691319123449,
           0.006427867692694974,
           0.008726738222447914,
           0.010623414915025702,
           0.005392724921116479,
           0.00528349601929373,
           0.0028464617792881746,
           0.003458432977579864,
           0.002630174086274918,
           0.003688464704597307,
           0.0021592600790788312,
           0.0018344668544535733,
           0.006365657854570759,
           0.005670499082043203,
           0.0009353176824954537,
           0.0009280839803879868,
           0.00682282782776266,
           0.007738614514567953,
           0.0011689662605666304,
           0.0013093000814514858,
           0.004513106744848519,
           0.004018321520697792,
           0.003791183274523335,
           0.004165889043690114,
           0.002310444453124887,
           0.002722765473250493,
           0.008814989388159009,
           0.008758566511720767,
           0.0013801903621046602,
           0.002447884793166756,
           0.004372772923963664,
           0.003486644415798984,
           0.006130562536078089,
           0.004824879305680337,
           0.00018445940374040267,
           0.0000014467404214933544,
           0.00008680442528960127,
           0.00007667724233914778,
           0.00017216211015770916,
           0.00010344194013677484,
           0.0020854763175826704,
           0.0012962794176580455,
           0.0025723044694151843,
           0.0028500786303419083,
           0.0073458244901325066,
           0.00662462439001807,
           0.0020760725048429634,
           0.0019118674670034678,
           0.00039206665422469904,
           0.00041666124139008606,
           0.010853446642043145,
           0.008124894207106678,
           0.001561756285002076,
           0.001265897868806685,
           0.00114943526487647,
           0.0008499599976273457,
           0.0011559455967731901,
           0.001057567248111642,
           0.0004629569348778734,
           0.00020833062069504303,
           0.006321532271715212,
           0.007036945410143676,
           0.0008485132572058524,
           0.001026462329049535,
           0.0013989979875840737,
           0.001485802412873675,
           0.0008239186700404654,
           0.0006582668917794762,
           0.00026258338650104383,
           0.00003616851053733386,
           0.0002495627227076036,
           0.000032551659483600474,
           0.0003211763735715247,
           0.00026837034818701723,
           0.0019530995690160283,
           0.00021122410153802973,
           0.00021122410153802973
          ]
         },
         "node": {
          "color": "blue",
          "label": [
           "Telencephalon_L",
           "Telencephalon_R",
           "Diencephalon_L",
           "Diencephalon_R",
           "Mesencephalon",
           "Metencephalon",
           "Myelencephalon",
           "CSF",
           "CerebralCortex_L",
           "CerebralCortex_R",
           "CerebralNucli_L",
           "CerebralNucli_R",
           "Thalamus_L",
           "Thalamus_R",
           "BasalForebrain_L",
           "BasalForebrain_R",
           "Mesencephalon_L",
           "Mesencephalon_R",
           "Metencephalon_R",
           "Metencephalon_L",
           "Myelencephalon_L",
           "Myelencephalon_R",
           "WhiteMatter_L",
           "WhiteMatter_R",
           "Ventricle",
           "Sulcus_L",
           "Sulcus_R",
           "Ventricle ",
           "Frontal_L",
           "Frontal_R",
           "Parietal_L",
           "Parietal_R",
           "Temporal_L",
           "Temporal_R",
           "Limbic_L",
           "Limbic_R",
           "Occipital_L",
           "Occipital_R",
           "Insula_L",
           "Insula_R",
           "BasalGang_L",
           "BasalGang_R",
           "Thalamus_L",
           "Thalamus_R",
           "BasalForebrain_L",
           "BasalForebrain_R",
           "midbrain_L",
           "midbrain_R",
           "Cerebellum_R",
           "Cerebellum_L",
           "Pons_L",
           "Pons_R",
           "Medulla_L",
           "Medulla_R",
           "AnteriorWM_L",
           "AnteriorWM_R",
           "PosteriorWM_L",
           "PosteriorWM_R",
           "CorpusCallosum_L",
           "CorpusCallosum_R",
           "InferiorWM_L",
           "InferiorWM_R",
           "LimbicWM_L",
           "LimbicWM_R",
           "LateralVentricle_L",
           "LateralVentricle_R",
           "III_ventricle",
           "FrontSul_L",
           "FrontSul_R",
           "CentralSul_L",
           "CentralSul_R",
           "SylvianFissureExt_L",
           "SylvianFissureExt_R",
           "ParietSul_L",
           "ParietSul_R",
           "CinguSul_L",
           "CinguSul_R",
           "OcciptSul_L",
           "OcciptSul_R",
           "TempSul_L",
           "TempSul_R",
           "IV_ventricle"
          ],
          "line": {
           "color": "black",
           "width": 0.5
          },
          "pad": 15,
          "thickness": 20
         },
         "type": "sankey"
        }
       ],
       "layout": {
        "font": {
         "size": 10
        },
        "template": {
         "data": {
          "bar": [
           {
            "error_x": {
             "color": "#2a3f5f"
            },
            "error_y": {
             "color": "#2a3f5f"
            },
            "marker": {
             "line": {
              "color": "#E5ECF6",
              "width": 0.5
             },
             "pattern": {
              "fillmode": "overlay",
              "size": 10,
              "solidity": 0.2
             }
            },
            "type": "bar"
           }
          ],
          "barpolar": [
           {
            "marker": {
             "line": {
              "color": "#E5ECF6",
              "width": 0.5
             },
             "pattern": {
              "fillmode": "overlay",
              "size": 10,
              "solidity": 0.2
             }
            },
            "type": "barpolar"
           }
          ],
          "carpet": [
           {
            "aaxis": {
             "endlinecolor": "#2a3f5f",
             "gridcolor": "white",
             "linecolor": "white",
             "minorgridcolor": "white",
             "startlinecolor": "#2a3f5f"
            },
            "baxis": {
             "endlinecolor": "#2a3f5f",
             "gridcolor": "white",
             "linecolor": "white",
             "minorgridcolor": "white",
             "startlinecolor": "#2a3f5f"
            },
            "type": "carpet"
           }
          ],
          "choropleth": [
           {
            "colorbar": {
             "outlinewidth": 0,
             "ticks": ""
            },
            "type": "choropleth"
           }
          ],
          "contour": [
           {
            "colorbar": {
             "outlinewidth": 0,
             "ticks": ""
            },
            "colorscale": [
             [
              0,
              "#0d0887"
             ],
             [
              0.1111111111111111,
              "#46039f"
             ],
             [
              0.2222222222222222,
              "#7201a8"
             ],
             [
              0.3333333333333333,
              "#9c179e"
             ],
             [
              0.4444444444444444,
              "#bd3786"
             ],
             [
              0.5555555555555556,
              "#d8576b"
             ],
             [
              0.6666666666666666,
              "#ed7953"
             ],
             [
              0.7777777777777778,
              "#fb9f3a"
             ],
             [
              0.8888888888888888,
              "#fdca26"
             ],
             [
              1,
              "#f0f921"
             ]
            ],
            "type": "contour"
           }
          ],
          "contourcarpet": [
           {
            "colorbar": {
             "outlinewidth": 0,
             "ticks": ""
            },
            "type": "contourcarpet"
           }
          ],
          "heatmap": [
           {
            "colorbar": {
             "outlinewidth": 0,
             "ticks": ""
            },
            "colorscale": [
             [
              0,
              "#0d0887"
             ],
             [
              0.1111111111111111,
              "#46039f"
             ],
             [
              0.2222222222222222,
              "#7201a8"
             ],
             [
              0.3333333333333333,
              "#9c179e"
             ],
             [
              0.4444444444444444,
              "#bd3786"
             ],
             [
              0.5555555555555556,
              "#d8576b"
             ],
             [
              0.6666666666666666,
              "#ed7953"
             ],
             [
              0.7777777777777778,
              "#fb9f3a"
             ],
             [
              0.8888888888888888,
              "#fdca26"
             ],
             [
              1,
              "#f0f921"
             ]
            ],
            "type": "heatmap"
           }
          ],
          "histogram": [
           {
            "marker": {
             "pattern": {
              "fillmode": "overlay",
              "size": 10,
              "solidity": 0.2
             }
            },
            "type": "histogram"
           }
          ],
          "histogram2d": [
           {
            "colorbar": {
             "outlinewidth": 0,
             "ticks": ""
            },
            "colorscale": [
             [
              0,
              "#0d0887"
             ],
             [
              0.1111111111111111,
              "#46039f"
             ],
             [
              0.2222222222222222,
              "#7201a8"
             ],
             [
              0.3333333333333333,
              "#9c179e"
             ],
             [
              0.4444444444444444,
              "#bd3786"
             ],
             [
              0.5555555555555556,
              "#d8576b"
             ],
             [
              0.6666666666666666,
              "#ed7953"
             ],
             [
              0.7777777777777778,
              "#fb9f3a"
             ],
             [
              0.8888888888888888,
              "#fdca26"
             ],
             [
              1,
              "#f0f921"
             ]
            ],
            "type": "histogram2d"
           }
          ],
          "histogram2dcontour": [
           {
            "colorbar": {
             "outlinewidth": 0,
             "ticks": ""
            },
            "colorscale": [
             [
              0,
              "#0d0887"
             ],
             [
              0.1111111111111111,
              "#46039f"
             ],
             [
              0.2222222222222222,
              "#7201a8"
             ],
             [
              0.3333333333333333,
              "#9c179e"
             ],
             [
              0.4444444444444444,
              "#bd3786"
             ],
             [
              0.5555555555555556,
              "#d8576b"
             ],
             [
              0.6666666666666666,
              "#ed7953"
             ],
             [
              0.7777777777777778,
              "#fb9f3a"
             ],
             [
              0.8888888888888888,
              "#fdca26"
             ],
             [
              1,
              "#f0f921"
             ]
            ],
            "type": "histogram2dcontour"
           }
          ],
          "mesh3d": [
           {
            "colorbar": {
             "outlinewidth": 0,
             "ticks": ""
            },
            "type": "mesh3d"
           }
          ],
          "parcoords": [
           {
            "line": {
             "colorbar": {
              "outlinewidth": 0,
              "ticks": ""
             }
            },
            "type": "parcoords"
           }
          ],
          "pie": [
           {
            "automargin": true,
            "type": "pie"
           }
          ],
          "scatter": [
           {
            "fillpattern": {
             "fillmode": "overlay",
             "size": 10,
             "solidity": 0.2
            },
            "type": "scatter"
           }
          ],
          "scatter3d": [
           {
            "line": {
             "colorbar": {
              "outlinewidth": 0,
              "ticks": ""
             }
            },
            "marker": {
             "colorbar": {
              "outlinewidth": 0,
              "ticks": ""
             }
            },
            "type": "scatter3d"
           }
          ],
          "scattercarpet": [
           {
            "marker": {
             "colorbar": {
              "outlinewidth": 0,
              "ticks": ""
             }
            },
            "type": "scattercarpet"
           }
          ],
          "scattergeo": [
           {
            "marker": {
             "colorbar": {
              "outlinewidth": 0,
              "ticks": ""
             }
            },
            "type": "scattergeo"
           }
          ],
          "scattergl": [
           {
            "marker": {
             "colorbar": {
              "outlinewidth": 0,
              "ticks": ""
             }
            },
            "type": "scattergl"
           }
          ],
          "scattermap": [
           {
            "marker": {
             "colorbar": {
              "outlinewidth": 0,
              "ticks": ""
             }
            },
            "type": "scattermap"
           }
          ],
          "scattermapbox": [
           {
            "marker": {
             "colorbar": {
              "outlinewidth": 0,
              "ticks": ""
             }
            },
            "type": "scattermapbox"
           }
          ],
          "scatterpolar": [
           {
            "marker": {
             "colorbar": {
              "outlinewidth": 0,
              "ticks": ""
             }
            },
            "type": "scatterpolar"
           }
          ],
          "scatterpolargl": [
           {
            "marker": {
             "colorbar": {
              "outlinewidth": 0,
              "ticks": ""
             }
            },
            "type": "scatterpolargl"
           }
          ],
          "scatterternary": [
           {
            "marker": {
             "colorbar": {
              "outlinewidth": 0,
              "ticks": ""
             }
            },
            "type": "scatterternary"
           }
          ],
          "surface": [
           {
            "colorbar": {
             "outlinewidth": 0,
             "ticks": ""
            },
            "colorscale": [
             [
              0,
              "#0d0887"
             ],
             [
              0.1111111111111111,
              "#46039f"
             ],
             [
              0.2222222222222222,
              "#7201a8"
             ],
             [
              0.3333333333333333,
              "#9c179e"
             ],
             [
              0.4444444444444444,
              "#bd3786"
             ],
             [
              0.5555555555555556,
              "#d8576b"
             ],
             [
              0.6666666666666666,
              "#ed7953"
             ],
             [
              0.7777777777777778,
              "#fb9f3a"
             ],
             [
              0.8888888888888888,
              "#fdca26"
             ],
             [
              1,
              "#f0f921"
             ]
            ],
            "type": "surface"
           }
          ],
          "table": [
           {
            "cells": {
             "fill": {
              "color": "#EBF0F8"
             },
             "line": {
              "color": "white"
             }
            },
            "header": {
             "fill": {
              "color": "#C8D4E3"
             },
             "line": {
              "color": "white"
             }
            },
            "type": "table"
           }
          ]
         },
         "layout": {
          "annotationdefaults": {
           "arrowcolor": "#2a3f5f",
           "arrowhead": 0,
           "arrowwidth": 1
          },
          "autotypenumbers": "strict",
          "coloraxis": {
           "colorbar": {
            "outlinewidth": 0,
            "ticks": ""
           }
          },
          "colorscale": {
           "diverging": [
            [
             0,
             "#8e0152"
            ],
            [
             0.1,
             "#c51b7d"
            ],
            [
             0.2,
             "#de77ae"
            ],
            [
             0.3,
             "#f1b6da"
            ],
            [
             0.4,
             "#fde0ef"
            ],
            [
             0.5,
             "#f7f7f7"
            ],
            [
             0.6,
             "#e6f5d0"
            ],
            [
             0.7,
             "#b8e186"
            ],
            [
             0.8,
             "#7fbc41"
            ],
            [
             0.9,
             "#4d9221"
            ],
            [
             1,
             "#276419"
            ]
           ],
           "sequential": [
            [
             0,
             "#0d0887"
            ],
            [
             0.1111111111111111,
             "#46039f"
            ],
            [
             0.2222222222222222,
             "#7201a8"
            ],
            [
             0.3333333333333333,
             "#9c179e"
            ],
            [
             0.4444444444444444,
             "#bd3786"
            ],
            [
             0.5555555555555556,
             "#d8576b"
            ],
            [
             0.6666666666666666,
             "#ed7953"
            ],
            [
             0.7777777777777778,
             "#fb9f3a"
            ],
            [
             0.8888888888888888,
             "#fdca26"
            ],
            [
             1,
             "#f0f921"
            ]
           ],
           "sequentialminus": [
            [
             0,
             "#0d0887"
            ],
            [
             0.1111111111111111,
             "#46039f"
            ],
            [
             0.2222222222222222,
             "#7201a8"
            ],
            [
             0.3333333333333333,
             "#9c179e"
            ],
            [
             0.4444444444444444,
             "#bd3786"
            ],
            [
             0.5555555555555556,
             "#d8576b"
            ],
            [
             0.6666666666666666,
             "#ed7953"
            ],
            [
             0.7777777777777778,
             "#fb9f3a"
            ],
            [
             0.8888888888888888,
             "#fdca26"
            ],
            [
             1,
             "#f0f921"
            ]
           ]
          },
          "colorway": [
           "#636efa",
           "#EF553B",
           "#00cc96",
           "#ab63fa",
           "#FFA15A",
           "#19d3f3",
           "#FF6692",
           "#B6E880",
           "#FF97FF",
           "#FECB52"
          ],
          "font": {
           "color": "#2a3f5f"
          },
          "geo": {
           "bgcolor": "white",
           "lakecolor": "white",
           "landcolor": "#E5ECF6",
           "showlakes": true,
           "showland": true,
           "subunitcolor": "white"
          },
          "hoverlabel": {
           "align": "left"
          },
          "hovermode": "closest",
          "mapbox": {
           "style": "light"
          },
          "paper_bgcolor": "white",
          "plot_bgcolor": "#E5ECF6",
          "polar": {
           "angularaxis": {
            "gridcolor": "white",
            "linecolor": "white",
            "ticks": ""
           },
           "bgcolor": "#E5ECF6",
           "radialaxis": {
            "gridcolor": "white",
            "linecolor": "white",
            "ticks": ""
           }
          },
          "scene": {
           "xaxis": {
            "backgroundcolor": "#E5ECF6",
            "gridcolor": "white",
            "gridwidth": 2,
            "linecolor": "white",
            "showbackground": true,
            "ticks": "",
            "zerolinecolor": "white"
           },
           "yaxis": {
            "backgroundcolor": "#E5ECF6",
            "gridcolor": "white",
            "gridwidth": 2,
            "linecolor": "white",
            "showbackground": true,
            "ticks": "",
            "zerolinecolor": "white"
           },
           "zaxis": {
            "backgroundcolor": "#E5ECF6",
            "gridcolor": "white",
            "gridwidth": 2,
            "linecolor": "white",
            "showbackground": true,
            "ticks": "",
            "zerolinecolor": "white"
           }
          },
          "shapedefaults": {
           "line": {
            "color": "#2a3f5f"
           }
          },
          "ternary": {
           "aaxis": {
            "gridcolor": "white",
            "linecolor": "white",
            "ticks": ""
           },
           "baxis": {
            "gridcolor": "white",
            "linecolor": "white",
            "ticks": ""
           },
           "bgcolor": "#E5ECF6",
           "caxis": {
            "gridcolor": "white",
            "linecolor": "white",
            "ticks": ""
           }
          },
          "title": {
           "x": 0.05
          },
          "xaxis": {
           "automargin": true,
           "gridcolor": "white",
           "linecolor": "white",
           "ticks": "",
           "title": {
            "standoff": 15
           },
           "zerolinecolor": "white",
           "zerolinewidth": 2
          },
          "yaxis": {
           "automargin": true,
           "gridcolor": "white",
           "linecolor": "white",
           "ticks": "",
           "title": {
            "standoff": 15
           },
           "zerolinecolor": "white",
           "zerolinewidth": 2
          }
         }
        },
        "title": {
         "text": "Subject 127 ICV Hierarchy (3 levels) Sankey Diagram"
        }
       }
      }
     },
     "metadata": {},
     "output_type": "display_data"
    },
    {
     "name": "stdout",
     "output_type": "stream",
     "text": [
      "Files saved in: C:\\Users\\Juan P. Santos\\Downloads\n"
     ]
    }
   ],
   "source": [
    "import requests as rq\n",
    "import bs4\n",
    "import pandas as pd\n",
    "from io import StringIO\n",
    "import plotly.express as px\n",
    "import plotly.io as pio\n",
    "import plotly.graph_objects as go\n",
    "import numpy as np\n",
    "import os\n",
    "\n",
    "\n",
    "url = \"https://en.wikipedia.org/wiki/List_of_countries_by_GDP_(nominal)\"\n",
    "headers = {\"User-Agent\": \"Mozilla/5.0\"}\n",
    "page = rq.get(url, headers=headers)\n",
    "\n",
    "bs4page = bs4.BeautifulSoup(page.text, 'html.parser')\n",
    "tables = bs4page.find_all('table', {'class': 'wikitable'})\n",
    "\n",
    "gdp_table = pd.read_html(StringIO(str(tables[0])))[0]\n",
    "\n",
    "gdp_table.columns = gdp_table.columns.str.strip()\n",
    "\n",
    "gdp_table = gdp_table[['Country/Territory', 'IMF (2025)[1][6]']]\n",
    "\n",
    "gdp_table = gdp_table[gdp_table['IMF (2025)[1][6]'].notna()]\n",
    "\n",
    "gdp_table['IMF (2025)[1][6]'] = (\n",
    "    gdp_table['IMF (2025)[1][6]']\n",
    "    .astype(str)\n",
    "    .str.replace(',', '')\n",
    "    .str.replace('—', '')\n",
    "    .replace('', np.nan)\n",
    ")\n",
    "gdp_table = gdp_table[gdp_table['IMF (2025)[1][6]'].notna()]\n",
    "gdp_table['IMF (2025)[1][6]'] = gdp_table['IMF (2025)[1][6]'].astype(float)\n",
    "\n",
    "gdp_table = gdp_table.sort_values('IMF (2025)[1][6]', ascending=False).head(20)\n",
    "\n",
    "fig = px.bar(\n",
    "    gdp_table,\n",
    "    x='Country/Territory',\n",
    "    y='IMF (2025)[1][6]',\n",
    "    title='Top 20 Countries by IMF GDP Forecast (2025)',\n",
    "    labels={'IMF (2025)[1][6]': 'GDP (million US$)'},\n",
    "    text='IMF (2025)[1][6]'\n",
    ")\n",
    "fig.update_layout(xaxis_tickangle=-45)\n",
    "\n",
    "fig.show()\n",
    "\n",
    "pio.write_html(fig, 'stacked_bar.html')\n",
    "\n",
    "url_lookup = \"https://raw.githubusercontent.com/bcaffo/MRIcloudT1volumetrics/master/inst/extdata/multilevel_lookup_table.txt\"\n",
    "multilevel_lookup = pd.read_csv(url_lookup, sep=\"\\t\").drop(['Level5'], axis=1)\n",
    "multilevel_lookup = multilevel_lookup.rename(columns={\n",
    "    \"modify\": \"roi\",\n",
    "    \"modify.1\": \"level4\",\n",
    "    \"modify.2\": \"level3\",\n",
    "    \"modify.3\": \"level2\",\n",
    "    \"modify.4\": \"level1\"\n",
    "})[['roi','level4','level3','level2','level1']]\n",
    "\n",
    "id = 127\n",
    "subjectData = pd.read_csv(\"https://raw.githubusercontent.com/smart-stats/ds4bio_book/main/book/assetts/kirby21AllLevels.csv\")\n",
    "subjectData = subjectData.loc[(subjectData.type == 1) & (subjectData.level == 5) & (subjectData.id == id)]\n",
    "subjectData = subjectData[['roi', 'volume']]\n",
    "\n",
    "subjectData = pd.merge(subjectData, multilevel_lookup, on='roi')\n",
    "subjectData['comp'] = subjectData['volume'] / subjectData['volume'].sum()\n",
    "\n",
    "level1_nodes = subjectData['level1'].unique().tolist()\n",
    "level2_nodes = subjectData['level2'].unique().tolist()\n",
    "level3_nodes = subjectData['level3'].unique().tolist()\n",
    "labels = level1_nodes + level2_nodes + level3_nodes\n",
    "\n",
    "label_index = {label: i for i, label in enumerate(labels)}\n",
    "\n",
    "links = []\n",
    "for _, row in subjectData.iterrows():\n",
    "    links.append({\n",
    "        'source': label_index[row['level1']],\n",
    "        'target': label_index[row['level2']],\n",
    "        'value': row['comp']\n",
    "    })\n",
    "\n",
    "for _, row in subjectData.iterrows():\n",
    "    links.append({\n",
    "        'source': label_index[row['level2']],\n",
    "        'target': label_index[row['level3']],\n",
    "        'value': row['comp']\n",
    "    })\n",
    "\n",
    "fig_sankey = go.Figure(data=[go.Sankey(\n",
    "    node=dict(\n",
    "        pad=15,\n",
    "        thickness=20,\n",
    "        line=dict(color=\"black\", width=0.5),\n",
    "        label=labels,\n",
    "        color=\"blue\"\n",
    "    ),\n",
    "    link=dict(\n",
    "        source=[l['source'] for l in links],\n",
    "        target=[l['target'] for l in links],\n",
    "        value=[l['value'] for l in links]\n",
    "    )\n",
    ")])\n",
    "\n",
    "fig_sankey.update_layout(title_text=\"Subject 127 ICV Hierarchy (3 levels) Sankey Diagram\", font_size=10)\n",
    "fig_sankey.show()\n",
    "\n",
    "pio.write_html(fig_sankey, \"sankey.html\")\n",
    "\n",
    "downloads = os.path.join(os.path.expanduser(\"~\"), \"Downloads\")\n",
    "\n",
    "fig.write_html(os.path.join(downloads, \"stacked_bar.html\"))\n",
    "\n",
    "fig_sankey.write_html(os.path.join(downloads, \"sankey.html\"))\n",
    "\n",
    "print(\"Files saved in:\", downloads)\n"
   ]
  },
  {
   "cell_type": "markdown",
   "id": "5959e1eb",
   "metadata": {},
   "source": [
    "file:///C:/Users/Juan%20P.%20Santos/Downloads/sankey.html"
   ]
  }
 ],
 "metadata": {
  "kernelspec": {
   "display_name": "Python 3",
   "language": "python",
   "name": "python3"
  },
  "language_info": {
   "codemirror_mode": {
    "name": "ipython",
    "version": 3
   },
   "file_extension": ".py",
   "mimetype": "text/x-python",
   "name": "python",
   "nbconvert_exporter": "python",
   "pygments_lexer": "ipython3",
   "version": "3.11.5"
  }
 },
 "nbformat": 4,
 "nbformat_minor": 5
}
